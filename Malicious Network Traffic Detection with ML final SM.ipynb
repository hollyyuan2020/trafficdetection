{
 "cells": [
  {
   "cell_type": "markdown",
   "metadata": {},
   "source": [
    "# Malicious Network Traffic Detection in IoT Networks\n",
    "This project develops a machine learning model to automatically detect malicious network traffic patterns in real-time IoT environments.\n",
    "\n",
    "## Project Overview\n",
    "This notebook demonstrates the development of a machine learning model to detect malicious network traffic patterns in IoT (Internet of Things) environments. Using the RT-IoT2022 Dataset, we implement a Random Forest classifier to distinguish between normal and malicious network behaviors.\n",
    "\n",
    "## Business Context\n",
    "The rapid growth of IoT devices has created new security challenges for organizations:\n",
    "- IoT networks generate massive volumes of traffic data\n",
    "- Traditional manual analysis is no longer feasible\n",
    "- Attackers increasingly target IoT devices for botnets and data theft\n",
    "- Real-time detection of threats is crucial for network security\n",
    "\n",
    "## Technical Approach\n",
    "We implement a supervised machine learning solution using:\n",
    "- Random Forest Classification\n",
    "- Feature engineering for network traffic data\n",
    "- Label encoding for categorical variables\n",
    "- Performance evaluation with multiple metrics\n",
    "\n",
    "## Dataset Description\n",
    "The RT-IoT2022 Dataset from UCI Machine Learning Repository includes:\n",
    "- Size: 123,117 network traffic samples\n",
    "- Features: 85 network traffic characteristics\n",
    "- Types: Mix of normal and attack traffic patterns\n",
    "- Source: Real-world IoT infrastructure data\n",
    "- Categories: Various attack types including DDoS, scanning, and malware\n",
    "\n",
    "Key Features Include:\n",
    "- Protocol types\n",
    "- Service types\n",
    "- Flow duration\n",
    "- Packet statistics\n",
    "- Network behavior patterns\n",
    "\n",
    "## Success Metrics\n",
    "The model's performance will be evaluated against these criteria:\n",
    "\n",
    "1. Accuracy Metrics:\n",
    "   - Minimum accuracy: 80% on test set\n",
    "   - Minimum precision: 80% (reduce false positives)\n",
    "   - Minimum recall: 80% (detect most attacks)\n",
    "   - Confidence threshold: 70%\n",
    "\n",
    "2. Operational Requirements:\n",
    "   - Process streaming data efficiently\n",
    "   - Provide clear attack classifications\n",
    "   - Generate confidence scores for predictions\n",
    "\n",
    "## Implementation Steps\n",
    "1. Data preprocessing and exploration\n",
    "2. Feature engineering and selection\n",
    "3. Model training using Random Forest\n",
    "4. Performance evaluation\n",
    "5. Feature importance analysis\n",
    "\n",
    "## Expected Outputs\n",
    "For each network traffic sample, the model will provide:\n",
    "- Binary classification (Malicious/Benign)\n",
    "- Confidence score (0-100%)\n",
    "- Feature importance insights\n",
    "\n",
    "## Usage Notes\n",
    "- The notebook requires basic Python data science libraries\n",
    "- Designed for use with the RT-IoT2022 dataset\n",
    "- Can be adapted for similar network traffic analysis tasks\n"
   ]
  },
  {
   "cell_type": "code",
   "execution_count": null,
   "metadata": {},
   "outputs": [],
   "source": [
    "# Import required libraries\n",
    "import pandas as pd\n",
    "import numpy as np\n",
    "from sklearn.preprocessing import LabelEncoder\n",
    "from sklearn.model_selection import train_test_split\n",
    "from sklearn.ensemble import RandomForestClassifier\n",
    "from sklearn.metrics import classification_report, accuracy_score, confusion_matrix\n",
    "import matplotlib.pyplot as plt\n",
    "import seaborn as sns\n",
    "\n",
    "# Set random seed for reproducibility\n",
    "np.random.seed(42)"
   ]
  },
  {
   "cell_type": "markdown",
   "metadata": {},
   "source": [
    "## 1. Load the Dataset"
   ]
  },
  {
   "cell_type": "code",
   "execution_count": null,
   "metadata": {},
   "outputs": [],
   "source": [
    "# Load the dataset\n",
    "data = pd.read_csv('RT_IOT2022.csv')\n",
    "print(\"Dataset shape:\", data.shape)"
   ]
  },
  {
   "cell_type": "markdown",
   "metadata": {},
   "source": [
    "## 2. Data Exploration"
   ]
  },
  {
   "cell_type": "code",
   "execution_count": null,
   "metadata": {},
   "outputs": [],
   "source": [
    "# Display the first few rows\n",
    "print(data.head())\n",
    "\n",
    "# Summary statistics\n",
    "print(\"\\nSummary statistics:\")\n",
    "print(data.describe())\n",
    "\n",
    "# Check for missing values\n",
    "print(\"\\nMissing values:\")\n",
    "print(data.isnull().sum())"
   ]
  },
  {
   "cell_type": "markdown",
   "metadata": {},
   "source": [
    "## 3. Encode Categorical Data"
   ]
  },
  {
   "cell_type": "code",
   "execution_count": null,
   "metadata": {},
   "outputs": [],
   "source": [
    "# 1. Load the data\n",
    "data = pd.read_csv('RT_IOT2022.csv')\n",
    "\n",
    "# 2. Examine original data\n",
    "print(\"Sample rows with full context:\")\n",
    "print(data[['proto', 'service', 'Attack_type']].head(10))\n",
    "\n",
    "print(\"\\nData type of Attack_type column:\", data['Attack_type'].dtype)\n",
    "\n",
    "print(\"\\nOriginal Attack Types and their frequencies:\")\n",
    "print(data['Attack_type'].value_counts())\n",
    "\n",
    "# 3. Create encoders\n",
    "attack_encoder = LabelEncoder()\n",
    "proto_encoder = LabelEncoder()\n",
    "service_encoder = LabelEncoder()\n",
    "\n",
    "# 4. Create and store mappings\n",
    "# Attack types mapping\n",
    "attack_encoder.fit(data['Attack_type'])\n",
    "print(\"\\nMapping of numbers to attack types:\")\n",
    "for i, attack_type in enumerate(attack_encoder.classes_):\n",
    "    print(f\"{i}: {attack_type}\")\n",
    "\n",
    "# Protocol and service types\n",
    "print(\"\\nProtocol types:\")\n",
    "print(data['proto'].unique())\n",
    "print(\"\\nService types:\")\n",
    "print(data['service'].unique())\n",
    "\n",
    "# 5. Transform the data\n",
    "data['Attack_type'] = attack_encoder.transform(data['Attack_type'])\n",
    "data['proto'] = proto_encoder.fit_transform(data['proto'])\n",
    "data['service'] = service_encoder.fit_transform(data['service'])"
   ]
  },
  {
   "cell_type": "markdown",
   "metadata": {},
   "source": [
    "## 4. Prepare Data for Training"
   ]
  },
  {
   "cell_type": "code",
   "execution_count": null,
   "metadata": {},
   "outputs": [],
   "source": [
    "# Prepare features and target\n",
    "X = data.drop(['Attack_type', 'Unnamed: 0'], axis=1)\n",
    "y = data['Attack_type']\n",
    "\n",
    "# Split the data\n",
    "X_train, X_test, y_train, y_test = train_test_split(X, y, test_size=0.2, random_state=42)\n",
    "\n",
    "print(\"Training set shape:\", X_train.shape)\n",
    "print(\"Testing set shape:\", X_test.shape)"
   ]
  },
  {
   "cell_type": "markdown",
   "metadata": {},
   "source": [
    "## 5. Train the Model"
   ]
  },
  {
   "cell_type": "code",
   "execution_count": null,
   "metadata": {},
   "outputs": [],
   "source": [
    "# Initialize the RandomForestClassifier\n",
    "model = RandomForestClassifier(\n",
    "    n_estimators=100,\n",
    "    max_depth=10,\n",
    "    random_state=42\n",
    ")\n",
    "\n",
    "# Train the model\n",
    "model.fit(X_train, y_train)\n",
    "print(\"Model training completed!\")"
   ]
  },
  {
   "cell_type": "markdown",
   "metadata": {},
   "source": [
    "## 6. Evaluate the Model"
   ]
  },
  {
   "cell_type": "code",
   "execution_count": null,
   "metadata": {},
   "outputs": [],
   "source": [
    "# Make predictions\n",
    "y_pred = model.predict(X_test)\n",
    "\n",
    "# Print metrics\n",
    "print(\"Accuracy:\", accuracy_score(y_test, y_pred))\n",
    "print(\"\\nClassification Report:\")\n",
    "print(classification_report(y_test, y_pred))\n",
    "\n",
    "# Plot confusion matrix\n",
    "plt.figure(figsize=(10, 8))\n",
    "sns.heatmap(confusion_matrix(y_test, y_pred), annot=True, fmt='d', cmap='Blues')\n",
    "plt.title('Confusion Matrix')\n",
    "plt.ylabel('True Label')\n",
    "plt.xlabel('Predicted Label')\n",
    "plt.show()"
   ]
  },
  {
   "cell_type": "markdown",
   "metadata": {},
   "source": [
    "## 7. Feature Importance"
   ]
  },
  {
   "cell_type": "code",
   "execution_count": null,
   "metadata": {},
   "outputs": [],
   "source": [
    "# Get feature importance\n",
    "feature_importance = pd.DataFrame({\n",
    "    'feature': X.columns,\n",
    "    'importance': model.feature_importances_\n",
    "})\n",
    "\n",
    "# Sort by importance\n",
    "feature_importance = feature_importance.sort_values('importance', ascending=False)\n",
    "\n",
    "# Plot feature importance\n",
    "plt.figure(figsize=(10, 6))\n",
    "sns.barplot(x='importance', y='feature', data=feature_importance.head(10))\n",
    "plt.title('Top 10 Most Important Features')\n",
    "plt.tight_layout()\n",
    "plt.show()"
   ]
  },
  {
   "cell_type": "markdown",
   "metadata": {},
   "source": [
    "## Production Deployment (Optional)\n",
    "The next step is to deploy this model into a production network environment. This involves several key actions:\n",
    "\n",
    "1. **Upload the Model to an S3 Bucket**: \n",
    "   - Save your trained machine learning model (as a .joblib or .pickle file) \n",
    "   - Upload this file to an Amazon S3 bucket\n",
    "\n",
    "2. **Create a SageMaker Model**: \n",
    "   - Create an AWS SageMaker model that references the saved model file in your S3 bucket\n",
    "   - Specify the path to the model in S3\n",
    "   - Select the appropriate Docker container image for your model type\n",
    "\n",
    "3. **Deploy the Model to an Endpoint**: \n",
    "   - Deploy the SageMaker model to an endpoint\n",
    "   - This endpoint will be used for making real-time predictions\n",
    "\n",
    "4. **Send Real-Time Traffic for Prediction**: \n",
    "   - Route your real-time production network traffic to the SageMaker endpoint\n",
    "   - The endpoint will use your deployed model to predict the attack types\n",
    "   - Results will be returned in real-time\n",
    "\n",
    "This deployment process will enable the model to analyze network traffic in real-time and identify potential malicious activities, enhancing your network's security posture.\n"
   ]
  }
 ],
 "metadata": {
  "kernelspec": {
   "display_name": "default:Python",
   "language": "python",
   "name": "conda-env-default-py"
  },
  "language_info": {
   "codemirror_mode": {
    "name": "ipython",
    "version": 3
   },
   "file_extension": ".py",
   "mimetype": "text/x-python",
   "name": "python",
   "nbconvert_exporter": "python",
   "pygments_lexer": "ipython3",
   "version": "3.9.13"
  }
 },
 "nbformat": 4,
 "nbformat_minor": 4
}
